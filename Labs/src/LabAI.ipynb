{
 "cells": [
  {
   "cell_type": "markdown",
   "source": [
    "This tutorial is about tuning hyperparameters inside the jupyter notebook:\n",
    "\n",
    "Reviewed by: Zhi Zhang"
   ],
   "metadata": {}
  },
  {
   "cell_type": "markdown",
   "source": [
    "Objectives:\n",
    "<ul>\n",
    "<li>Get familiar with some common libraries for Data Analysis in Python such as Pandas.</li>\n",
    "<li>Get familiar with AWS SageMaker to train Machine Learning models using the cloud</li>\n",
    "<li>Get familiar with Jupyter Notebooks</li>\n",
    "</ul>"
   ],
   "metadata": {
    "ExecuteTime": {
     "end_time": "2021-09-26T05:56:56.882445Z",
     "start_time": "2021-09-26T05:56:56.875737Z"
    }
   }
  },
  {
   "cell_type": "markdown",
   "source": [
    "# Install libraries"
   ],
   "metadata": {
    "ExecuteTime": {
     "end_time": "2021-09-26T05:55:12.580521Z",
     "start_time": "2021-09-26T05:55:12.578009Z"
    }
   }
  },
  {
   "cell_type": "code",
   "execution_count": null,
   "source": [
    "# Install SageMaker via jupyter notebook\n",
    "!pip install sagemaker\n",
    "# Install pandas and numpy jupyter notebook\n",
    "!pip install pandas\n",
    "!pip install numpy"
   ],
   "outputs": [],
   "metadata": {
    "ExecuteTime": {
     "end_time": "2021-09-26T08:08:30.661921Z",
     "start_time": "2021-09-26T08:08:25.619661Z"
    }
   }
  },
  {
   "cell_type": "markdown",
   "source": [
    "# Create a role\n",
    "\n",
    "1. Login to the AWS console -> IAM -> Roles -> Create Role\n",
    "\n",
    "2. Create an IAM role and select the \"SageMakerRole\" service\n",
    "\n",
    "3. Give the role \"AmazonSageMakerFullAccess\" permission\n",
    "\n",
    "4. Review and create the role\n"
   ],
   "metadata": {}
  },
  {
   "cell_type": "markdown",
   "source": [
    "# Prepare a SageMaker session"
   ],
   "metadata": {}
  },
  {
   "cell_type": "code",
   "execution_count": null,
   "source": [
    "import sagemaker\n",
    "import boto3\n",
    "\n",
    "import numpy as np  # For matrix operations and numerical processing\n",
    "import pandas as pd  # For munging tabular data\n",
    "from time import gmtime, strftime\n",
    "import os\n",
    "\n",
    "smclient = boto3.Session().client(\"sagemaker\")\n",
    "iam = boto3.client('iam')\n",
    "sagemaker_role = iam.get_role(RoleName='SageMakerRole')['Role']['Arn']\n",

    "region = 'YOUR REGION NAME' # use the region you are mapped to \n",
    "student_id = \"YOUR STUDENTID\" # use your student id \n",
    "bucket = 'YOUR_BUCKET_NAME' # use <studentid-lab8> as your bucket name\n",
    "prefix = f\"sagemaker/{student_id}-hpo-xgboost-dm\" \n",

    "# Create an S3 bucket using the bucket variable above. The bucket creation is done using the region variable above.\n",
    "# Create an object into the bucket. The object is a folder and its name is the prefix variable above. \n"

   ],
   "outputs": [],
   "metadata": {
    "ExecuteTime": {
     "end_time": "2021-09-26T08:08:38.189071Z",
     "start_time": "2021-09-26T08:08:30.665793Z"
    }
   }
  },
  {
   "cell_type": "markdown",
   "source": [
    "Update the code above as indicated by the comments:\n"
   ],
   "metadata": {}
  },
  {
   "cell_type": "markdown",
   "source": [
    "# Download a dataset"
   ],
   "metadata": {}
  },
  {
   "cell_type": "markdown",
   "source": [
    "Read and download the marketing dataset from UCI's ML Repository [here](https://archive.ics.uci.edu/ml/datasets/bank+marketing).",
    "\n",
    "NOTE: You can download and unzip the dataset using the commands below."
   ],
   "metadata": {}
  },
  {
   "cell_type": "code",
   "execution_count": null,
   "source": [
    "!wget -N https://archive.ics.uci.edu/ml/machine-learning-databases/00222/bank-additional.zip\n",
    "!unzip -o bank-additional.zip"
   ],
   "outputs": [],
   "metadata": {
    "ExecuteTime": {
     "end_time": "2021-09-26T08:08:50.772483Z",
     "start_time": "2021-09-26T08:08:44.602436Z"
    }
   }
  },
  {
   "cell_type": "markdown",
   "source": [
    "Read the dataset into a Pandas data frame and answer the following two questions:\n",
    "\n",
    "1. Which variables in the dataset are categorical? Give at least four variables.\n",
    "\n",
    "2. Which variables in the dataset are numerical? Give at least four variables."
   ],
   "metadata": {}
  },
  {
   "cell_type": "code",
   "execution_count": null,
   "source": [
    "data = pd.read_csv(\"./bank-additional/bank-additional-full.csv\", sep=\";\")\n",
    "pd.set_option(\"display.max_columns\", 500)  # Make sure we can see all of the columns\n",
    "pd.set_option(\"display.max_rows\", 50)  # Keep the output on one page\n",
    "data"
   ],
   "outputs": [],
   "metadata": {
    "ExecuteTime": {
     "end_time": "2021-09-26T08:08:51.002243Z",
     "start_time": "2021-09-26T08:08:50.775581Z"
    }
   }
  },
  {
   "cell_type": "markdown",
   "source": [
    "Process the data by adding two new indicator columns and then expands categorical columns into binary dummy columns for modelling purposes."
   ],
   "metadata": {}
  },

  {
   "cell_type": "code",
   "execution_count": null,
   "source": [
    "data[\"no_previous_contact\"] = np.where(\n",
    "    data[\"pdays\"] == 999, 1, 0\n",
    ")  # Indicator variable to capture when pdays takes a value of 999\n",
    "data[\"not_working\"] = np.where(\n",
    "    np.in1d(data[\"job\"], [\"student\", \"retired\", \"unemployed\"]), 1, 0\n",
    ")  # Indicator for individuals not actively employed\n",
    "model_data = pd.get_dummies(data)  # Convert categorical variables to sets of indicators\n",
    "model_data"
   ],
   "outputs": [],
   "metadata": {
    "ExecuteTime": {
     "end_time": "2021-09-26T08:08:51.108630Z",
     "start_time": "2021-09-26T08:08:51.004300Z"
    }
   }
  },
  {
   "cell_type": "markdown",
   "source": [
    "Remove the economic features and duration from our data as they would need to be forecasted with high precision to use as inputs in future predictions."
   ],
   "metadata": {}
  },
  {
   "cell_type": "code",
   "execution_count": null,
   "source": [
    "model_data = model_data.drop(\n",
    "    [\"duration\", \"emp.var.rate\", \"cons.price.idx\", \"cons.conf.idx\", \"euribor3m\", \"nr.employed\"],\n",
    "    axis=1,\n",
    ")"
   ],
   "outputs": [],
   "metadata": {
    "ExecuteTime": {
     "end_time": "2021-09-26T08:08:51.121023Z",
     "start_time": "2021-09-26T08:08:51.111934Z"
    }
   }
  },
  {
   "cell_type": "code",
   "execution_count": null,
   "source": [
    "model_data"
   ],
   "outputs": [],
   "metadata": {
    "ExecuteTime": {
     "end_time": "2021-09-26T08:08:51.154532Z",
     "start_time": "2021-09-26T08:08:51.123764Z"
    }
   }
  },
  {
   "cell_type": "markdown",
   "source": [
    "# Split the data into training, validation and test"
   ],
   "metadata": {}
  },
  {
   "cell_type": "markdown",
   "source": [
    "We split the dataset into training (70%), validation (20%), and test (10%) datasets and convert the datasets to an appropriate format. We will use the training and validation datasets during training. Test dataset will be used to evaluate model performance after it is deployed to an endpoint.\n",
    "\n",
    "Amazon SageMaker's XGBoost algorithm expects data in the libSVM or CSV data format. In this lab, we use the CSV format. Note that the first column must be the target variable and the CSV should not include headers. Also, notice that although repetitive it’s easier to do this after the train|validation|test split rather than before. This avoids any misalignment issues due to random reordering."
   ],
   "metadata": {}
  },
  {
   "cell_type": "code",
   "execution_count": null,
   "source": [
    "train_data, validation_data, test_data = np.split(\n",
    "    model_data.sample(frac=1, random_state=1729),\n",
    "    [int(0.7 * len(model_data)), int(0.9 * len(model_data))],\n",
    ")\n",
    "\n",
    "pd.concat([train_data[\"y_yes\"], train_data.drop([\"y_no\", \"y_yes\"], axis=1)], axis=1).to_csv(\n",
    "    \"train.csv\", index=False, header=False\n",
    ")\n",
    "pd.concat(\n",
    "    [validation_data[\"y_yes\"], validation_data.drop([\"y_no\", \"y_yes\"], axis=1)], axis=1\n",
    ").to_csv(\"validation.csv\", index=False, header=False)\n",
    "pd.concat([test_data[\"y_yes\"], test_data.drop([\"y_no\", \"y_yes\"], axis=1)], axis=1).to_csv(\n",
    "    \"test.csv\", index=False, header=False\n",
    ")"
   ],
   "outputs": [],
   "metadata": {
    "ExecuteTime": {
     "end_time": "2021-09-26T08:08:51.544344Z",
     "start_time": "2021-09-26T08:08:51.156668Z"
    }
   }
  },
  {
   "cell_type": "markdown",
   "source": [
    "Copy the file to the S3 bucket created earlier for Amazon SageMaker training to pick up."
   ],
   "metadata": {
    "ExecuteTime": {
     "end_time": "2021-09-26T05:50:57.122008Z",
     "start_time": "2021-09-26T05:50:57.118586Z"
    }
   }
  },
  {
   "cell_type": "code",
   "execution_count": null,
   "source": [
    "boto3.Session().resource(\"s3\").Bucket(bucket).Object(\n",
    "    os.path.join(prefix, \"train/train.csv\")\n",
    ").upload_file(\"train.csv\")\n",
    "boto3.Session().resource(\"s3\").Bucket(bucket).Object(\n",
    "    os.path.join(prefix, \"validation/validation.csv\")\n",
    ").upload_file(\"validation.csv\")"
   ],
   "outputs": [],
   "metadata": {
    "ExecuteTime": {
     "end_time": "2021-09-26T08:09:09.049719Z",
     "start_time": "2021-09-26T08:08:51.546748Z"
    }
   }
  },
  {
   "cell_type": "markdown",
   "source": [
    "# Setup hyperparameter tuning"
   ],
   "metadata": {}
  },

  {
   "cell_type": "markdown",
   "source": [
    "Set up the the name and configuration for a hyperparameter tuning job."
   ],
   "metadata": {}
  },

  {
   "cell_type": "code",
   "execution_count": null,
   "source": [
    "from time import gmtime, strftime, sleep\n",
    "\n",
    "# Names have to be unique. You will get an error if you reuse the same name\n",
    "tuning_job_name = f\"{student_id}-xgboost-tuningjob-01\"\n",
    "\n",
    "print(tuning_job_name)\n",
    "\n",
    "tuning_job_config = {\n",
    "    \"ParameterRanges\": {\n",
    "        \"CategoricalParameterRanges\": [],\n",
    "        \"ContinuousParameterRanges\": [\n",
    "            {\n",
    "                \"MaxValue\": \"1\",\n",
    "                \"MinValue\": \"0\",\n",
    "                \"Name\": \"eta\",\n",
    "            },\n",
    "            {\n",
    "                \"MaxValue\": \"10\",\n",
    "                \"MinValue\": \"1\",\n",
    "                \"Name\": \"min_child_weight\",\n",
    "            },\n",
    "            {\n",
    "                \"MaxValue\": \"2\",\n",
    "                \"MinValue\": \"0\",\n",
    "                \"Name\": \"alpha\",\n",
    "            },\n",
    "        ],\n",
    "        \"IntegerParameterRanges\": [\n",
    "            {\n",
    "                \"MaxValue\": \"10\",\n",
    "                \"MinValue\": \"1\",\n",
    "                \"Name\": \"max_depth\",\n",
    "            }\n",
    "        ],\n",
    "    },\n",
    "    \"ResourceLimits\": {\"MaxNumberOfTrainingJobs\": 2, \"MaxParallelTrainingJobs\": 2},\n",
    "    \"Strategy\": \"Bayesian\",\n",
    "    \"HyperParameterTuningJobObjective\": {\"MetricName\": \"validation:auc\", \"Type\": \"Maximize\"},\n",
    "}"
   ],
   "outputs": [],
   "metadata": {
    "ExecuteTime": {
     "end_time": "2021-09-26T08:09:09.058048Z",
     "start_time": "2021-09-26T08:09:09.052200Z"
    }
   }
  },
  {
   "cell_type": "markdown",
   "source": [
    "Specify the XGBoost algorithm for subsequent tuning."
   ],
   "metadata": {}
  },

  {
   "cell_type": "code",
   "execution_count": null,
   "source": [
    "from sagemaker.image_uris import retrieve\n",
    "# Use XGBoost algorithm for training\n",
    "training_image = retrieve(framework=\"xgboost\", region=region, version=\"latest\")\n",
    "\n",
    "s3_input_train = \"s3://{}/{}/train\".format(bucket, prefix)\n",
    "s3_input_validation = \"s3://{}/{}/validation/\".format(bucket, prefix)\n",
    "\n",
    "training_job_definition = {\n",
    "    \"AlgorithmSpecification\": {\"TrainingImage\": training_image, \"TrainingInputMode\": \"File\"},\n",
    "    \"InputDataConfig\": [\n",
    "        {\n",
    "            \"ChannelName\": \"train\",\n",
    "            \"CompressionType\": \"None\",\n",
    "            \"ContentType\": \"csv\",\n",
    "            \"DataSource\": {\n",
    "                \"S3DataSource\": {\n",
    "                    \"S3DataDistributionType\": \"FullyReplicated\",\n",
    "                    \"S3DataType\": \"S3Prefix\",\n",
    "                    \"S3Uri\": s3_input_train,\n",
    "                }\n",
    "            },\n",
    "        },\n",
    "        {\n",
    "            \"ChannelName\": \"validation\",\n",
    "            \"CompressionType\": \"None\",\n",
    "            \"ContentType\": \"csv\",\n",
    "            \"DataSource\": {\n",
    "                \"S3DataSource\": {\n",
    "                    \"S3DataDistributionType\": \"FullyReplicated\",\n",
    "                    \"S3DataType\": \"S3Prefix\",\n",
    "                    \"S3Uri\": s3_input_validation,\n",
    "                }\n",
    "            },\n",
    "        },\n",
    "    ],\n",
    "    \"OutputDataConfig\": {\"S3OutputPath\": \"s3://{}/{}/output\".format(bucket, prefix)},\n",
    "    \"ResourceConfig\": {\"InstanceCount\": 1, \"InstanceType\": \"ml.m5.xlarge\", \"VolumeSizeInGB\": 10},\n",
    "    \"RoleArn\": sagemaker_role,\n",
    "    \"StaticHyperParameters\": {\n",
    "        \"eval_metric\": \"auc\",\n",
    "        \"num_round\": \"1\",\n",
    "        \"objective\": \"binary:logistic\",\n",
    "        \"rate_drop\": \"0.3\",\n",
    "        \"tweedie_variance_power\": \"1.4\",\n",
    "    },\n",
    "    \"StoppingCondition\": {\"MaxRuntimeInSeconds\": 43200},\n",
    "}"
   ],
   "outputs": [],
   "metadata": {
    "ExecuteTime": {
     "end_time": "2021-09-26T08:09:09.104138Z",
     "start_time": "2021-09-26T08:09:09.061485Z"
    }
   }
  },
  {
   "cell_type": "markdown",
   "source": [
    "Launch the tuning job."
   ],
   "metadata": {}
  },
  {
   "cell_type": "code",
   "execution_count": null,
   "source": [
    "#Launch Hyperparameter Tuning Job\n",
    "smclient.create_hyper_parameter_tuning_job(\n",
    "    HyperParameterTuningJobName=tuning_job_name,\n",
    "    HyperParameterTuningJobConfig=tuning_job_config,\n",
    "    TrainingJobDefinition=training_job_definition,\n",
    ")"
   ],
   "outputs": [],
   "metadata": {
    "ExecuteTime": {
     "end_time": "2021-09-26T08:09:15.166505Z",
     "start_time": "2021-09-26T08:09:09.109405Z"
    }
   }
  },
  {
   "cell_type": "markdown",
   "source": [
    "Go to AWS console (SageMaker-> Training -> Hyperparameter tuning jobs) to monitor the progress of the hyperparameter tuning job ([How to monitor the progress of a job?](https://docs.aws.amazon.com/sagemaker/latest/dg/automatic-model-tuning-monitor.html)).",
    "\n", 
    "The tuning will normally take between 2-4 minutes. Make ensure that the tuning job is completed successfully from the console. Also check the job output inside the s3 object you created. Last, remove all the AWS resources you used in this lab.\n",
    "\n",
    "NOTE: if the tuning job fails, check if you meet this error, ClientError: Non-numeric value 'F' found in the header line 'False,54,3,999,0,1,0,False,False,False,False,False...' of the file 'train.csv'. If so, you should convert the non-numeric values to numeric ones (i.e., True/False to 1/0). After that, rename your tuning job in the provided code and run it again."
   ],
   "metadata": {}
  }
 ],
 "metadata": {
  "kernelspec": {
   "display_name": "PyCharm (ReadPssesion)",
   "language": "python",
   "name": "pycharm-8851adb6"
  },
  "language_info": {
   "codemirror_mode": {
    "name": "ipython",
    "version": 3
   },
   "file_extension": ".py",
   "mimetype": "text/x-python",
   "name": "python",
   "nbconvert_exporter": "python",
   "pygments_lexer": "ipython3",
   "version": "3.9.4"
  },
  "varInspector": {
   "cols": {
    "lenName": 16,
    "lenType": 16,
    "lenVar": 40
   },
   "kernels_config": {
    "python": {
     "delete_cmd_postfix": "",
     "delete_cmd_prefix": "del ",
     "library": "var_list.py",
     "varRefreshCmd": "print(var_dic_list())"
    },
    "r": {
     "delete_cmd_postfix": ") ",
     "delete_cmd_prefix": "rm(",
     "library": "var_list.r",
     "varRefreshCmd": "cat(var_dic_list()) "
    }
   },
   "types_to_exclude": [
    "module",
    "function",
    "builtin_function_or_method",
    "instance",
    "_Feature"
   ],
   "window_display": false
  }
 },
 "nbformat": 4,
 "nbformat_minor": 5
}
