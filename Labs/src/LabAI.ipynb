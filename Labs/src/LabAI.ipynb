{
 "cells": [
  {
   "cell_type": "markdown",
   "source": [
    "This tutorial based on:\n",
    "https://sagemaker-examples.readthedocs.io/en/latest/hyperparameter_tuning/xgboost_direct_marketing/hpo_xgboost_direct_marketing_sagemaker_APIs.html\n",
    "\n",
    "Modified by: Camilo Pestana"
   ],
   "metadata": {}
  },
  {
   "cell_type": "markdown",
   "source": [
    "Objectives:\n",
    "<ul>\n",
    "<li>Be familiar with some common libraries for Data Analysis in Python such as Pandas.</li>\n",
    "<li>Get familiar with AWS SageMaker to train Machine Learning models using the cloud</li>\n",
    "<li>Get familiar with Jupyter Notebooks</li>\n",
    "</ul>"
   ],
   "metadata": {
    "ExecuteTime": {
     "end_time": "2021-09-26T05:56:56.882445Z",
     "start_time": "2021-09-26T05:56:56.875737Z"
    }
   }
  },
  {
   "cell_type": "markdown",
   "source": [
    "# Install Missing libraries in your local computer"
   ],
   "metadata": {
    "ExecuteTime": {
     "end_time": "2021-09-26T05:55:12.580521Z",
     "start_time": "2021-09-26T05:55:12.578009Z"
    }
   }
  },
  {
   "cell_type": "code",
   "execution_count": null,
   "source": [
    "# Install SageMaker\n",
    "!pip install sagemaker\n",
    "# Install pandas\n",
    "!pip install pandas"
   ],
   "outputs": [],
   "metadata": {
    "ExecuteTime": {
     "end_time": "2021-09-26T08:08:30.661921Z",
     "start_time": "2021-09-26T08:08:25.619661Z"
    }
   }
  },
  {
   "cell_type": "markdown",
   "source": [
    "# Create Role\n",
    "\n",
    "NOTE: For security purposes we won't allow students to create Roles. However, you can see below what are the steps needed to create them.\n",
    "\n",
    "1. Login to the AWS console -> IAM -> Roles -> Create Role\n",
    "\n",
    "2. Create an IAM role and select the \"SageMaker\" service\n",
    "\n",
    "3. Give the role \"AmazonSageMakerFullAccess\" permission\n",
    "\n",
    "4. Review and create the role\n",
    "\n",
    "5. The code needs to fetch the IAM role directly when the code is executed on a local machine. The code snippet to be used is given below:\n",
    "```\n",
    "    iam = boto3.client('iam')\n",
    "    sagemaker_role = iam.get_role(RoleName='<sagemaker-IAM-role-name>')['Role']['Arn']\n",
    "```\n",
    "\n",
    "A Role has been created using the steps above and you can use it for your lab.\n",
    "```\n",
    "    iam = boto3.client('iam')\n",
    "    sagemaker_role = iam.get_role(RoleName='Role_AWS_SageMaker')['Role']['Arn']\n",
    "```"
   ],
   "metadata": {}
  },
  {
   "cell_type": "markdown",
   "source": [
    "You need now to create a bucket or use an existing one and create inside the folders \"sagemaker/STUDENTID-hpo-xgboost-dm\""
   ],
   "metadata": {}
  },
  {
   "cell_type": "markdown",
   "source": [
    "# Prepare SageMaker session"
   ],
   "metadata": {}
  },
  {
   "cell_type": "code",
   "execution_count": null,
   "source": [
    "import sagemaker\n",
    "import boto3\n",
    "\n",
    "import numpy as np  # For matrix operations and numerical processing\n",
    "import pandas as pd  # For munging tabular data\n",
    "from time import gmtime, strftime\n",
    "import os\n",
    "\n",
    "region = 'ap-southeast-2'\n",
    "smclient = boto3.Session().client(\"sagemaker\")\n",
    "\n",
    "iam = boto3.client('iam')\n",
    "sagemaker_role = iam.get_role(RoleName='Role_AWS_SageMaker')['Role']['Arn']\n",
    "\n",
    "student_id = \"STUDENTID\"\n",
    "bucket = 'YOUR_BUCKET_NAME_HERE'\n",
    "prefix = f\"sagemaker/{student_id}-hpo-xgboost-dm\""
   ],
   "outputs": [],
   "metadata": {
    "ExecuteTime": {
     "end_time": "2021-09-26T08:08:38.189071Z",
     "start_time": "2021-09-26T08:08:30.665793Z"
    }
   }
  },
  {
   "cell_type": "markdown",
   "source": [
    "# Download Dataset"
   ],
   "metadata": {}
  },
  {
   "cell_type": "markdown",
   "source": [
    "Please take some time to read about the data with more detail [here](https://archive.ics.uci.edu/ml/datasets/bank+marketing)\n",
    "Let’s start by downloading the direct marketing dataset from UCI’s ML Repository.\n",
    "\n",
    "You can download the dataset manually or use the commands below. These commands should work for Linux and MacOS users."
   ],
   "metadata": {}
  },
  {
   "cell_type": "code",
   "execution_count": null,
   "source": [
    "!wget -N https://archive.ics.uci.edu/ml/machine-learning-databases/00222/bank-additional.zip\n",
    "!unzip -o bank-additional.zip"
   ],
   "outputs": [],
   "metadata": {
    "ExecuteTime": {
     "end_time": "2021-09-26T08:08:50.772483Z",
     "start_time": "2021-09-26T08:08:44.602436Z"
    }
   }
  },
  {
   "cell_type": "markdown",
   "source": [
    "Now lets read this into a Pandas data frame and take a look at the data."
   ],
   "metadata": {}
  },
  {
   "cell_type": "code",
   "execution_count": null,
   "source": [
    "data = pd.read_csv(\"./bank-additional/bank-additional-full.csv\", sep=\";\")\n",
    "pd.set_option(\"display.max_columns\", 500)  # Make sure we can see all of the columns\n",
    "pd.set_option(\"display.max_rows\", 50)  # Keep the output on one page\n",
    "data"
   ],
   "outputs": [],
   "metadata": {
    "ExecuteTime": {
     "end_time": "2021-09-26T08:08:51.002243Z",
     "start_time": "2021-09-26T08:08:50.775581Z"
    }
   }
  },
  {
   "cell_type": "markdown",
   "source": [
    "Answer the following questions:\n",
    "    - Which variables are categorical?\n",
    "    - Which ones are numerical?"
   ],
   "metadata": {}
  },
  {
   "cell_type": "code",
   "execution_count": null,
   "source": [
    "data[\"no_previous_contact\"] = np.where(\n",
    "    data[\"pdays\"] == 999, 1, 0\n",
    ")  # Indicator variable to capture when pdays takes a value of 999\n",
    "data[\"not_working\"] = np.where(\n",
    "    np.in1d(data[\"job\"], [\"student\", \"retired\", \"unemployed\"]), 1, 0\n",
    ")  # Indicator for individuals not actively employed\n",
    "model_data = pd.get_dummies(data)  # Convert categorical variables to sets of indicators\n",
    "model_data"
   ],
   "outputs": [],
   "metadata": {
    "ExecuteTime": {
     "end_time": "2021-09-26T08:08:51.108630Z",
     "start_time": "2021-09-26T08:08:51.004300Z"
    }
   }
  },
  {
   "cell_type": "markdown",
   "source": [
    "Let’s remove the economic features and duration from our data as they would need to be forecasted with high precision to use as inputs in future predictions."
   ],
   "metadata": {}
  },
  {
   "cell_type": "code",
   "execution_count": null,
   "source": [
    "model_data = model_data.drop(\n",
    "    [\"duration\", \"emp.var.rate\", \"cons.price.idx\", \"cons.conf.idx\", \"euribor3m\", \"nr.employed\"],\n",
    "    axis=1,\n",
    ")"
   ],
   "outputs": [],
   "metadata": {
    "ExecuteTime": {
     "end_time": "2021-09-26T08:08:51.121023Z",
     "start_time": "2021-09-26T08:08:51.111934Z"
    }
   }
  },
  {
   "cell_type": "code",
   "execution_count": null,
   "source": [
    "model_data"
   ],
   "outputs": [],
   "metadata": {
    "ExecuteTime": {
     "end_time": "2021-09-26T08:08:51.154532Z",
     "start_time": "2021-09-26T08:08:51.123764Z"
    }
   }
  },
  {
   "cell_type": "markdown",
   "source": [
    "# Split Data into training, validation and test"
   ],
   "metadata": {}
  },
  {
   "cell_type": "markdown",
   "source": [
    "We’ll then split the dataset into training (70%), validation (20%), and test (10%) datasets and convert the datasets to the right format the algorithm expects. We will use training and validation datasets during training. Test dataset will be used to evaluate model performance after it is deployed to an endpoint.\n",
    "\n",
    "Amazon SageMaker’s XGBoost algorithm expects data in the libSVM or CSV data format. For this lab, we’ll stick to CSV. Note that the first column must be the target variable and the CSV should not include headers. Also, notice that although repetitive it’s easier to do this after the train|validation|test split rather than before. This avoids any misalignment issues due to random reordering."
   ],
   "metadata": {}
  },
  {
   "cell_type": "code",
   "execution_count": null,
   "source": [
    "train_data, validation_data, test_data = np.split(\n",
    "    model_data.sample(frac=1, random_state=1729),\n",
    "    [int(0.7 * len(model_data)), int(0.9 * len(model_data))],\n",
    ")\n",
    "\n",
    "pd.concat([train_data[\"y_yes\"], train_data.drop([\"y_no\", \"y_yes\"], axis=1)], axis=1).to_csv(\n",
    "    \"train.csv\", index=False, header=False\n",
    ")\n",
    "pd.concat(\n",
    "    [validation_data[\"y_yes\"], validation_data.drop([\"y_no\", \"y_yes\"], axis=1)], axis=1\n",
    ").to_csv(\"validation.csv\", index=False, header=False)\n",
    "pd.concat([test_data[\"y_yes\"], test_data.drop([\"y_no\", \"y_yes\"], axis=1)], axis=1).to_csv(\n",
    "    \"test.csv\", index=False, header=False\n",
    ")"
   ],
   "outputs": [],
   "metadata": {
    "ExecuteTime": {
     "end_time": "2021-09-26T08:08:51.544344Z",
     "start_time": "2021-09-26T08:08:51.156668Z"
    }
   }
  },
  {
   "cell_type": "markdown",
   "source": [
    "Now we’ll copy the file to S3 for Amazon SageMaker training to pickup."
   ],
   "metadata": {
    "ExecuteTime": {
     "end_time": "2021-09-26T05:50:57.122008Z",
     "start_time": "2021-09-26T05:50:57.118586Z"
    }
   }
  },
  {
   "cell_type": "code",
   "execution_count": null,
   "source": [
    "boto3.Session().resource(\"s3\").Bucket(bucket).Object(\n",
    "    os.path.join(prefix, \"train/train.csv\")\n",
    ").upload_file(\"train.csv\")\n",
    "boto3.Session().resource(\"s3\").Bucket(bucket).Object(\n",
    "    os.path.join(prefix, \"validation/validation.csv\")\n",
    ").upload_file(\"validation.csv\")"
   ],
   "outputs": [],
   "metadata": {
    "ExecuteTime": {
     "end_time": "2021-09-26T08:09:09.049719Z",
     "start_time": "2021-09-26T08:08:51.546748Z"
    }
   }
  },
  {
   "cell_type": "markdown",
   "source": [
    "# Setup Hyperparameter Optimization"
   ],
   "metadata": {}
  },
  {
   "cell_type": "code",
   "execution_count": null,
   "source": [
    "from time import gmtime, strftime, sleep\n",
    "\n",
    "# Names have to be unique. You will get an error if you reuse the same name\n",
    "tuning_job_name = f\"{student_id}-xgboost-tuningjob-01\"\n",
    "\n",
    "print(tuning_job_name)\n",
    "\n",
    "tuning_job_config = {\n",
    "    \"ParameterRanges\": {\n",
    "        \"CategoricalParameterRanges\": [],\n",
    "        \"ContinuousParameterRanges\": [\n",
    "            {\n",
    "                \"MaxValue\": \"1\",\n",
    "                \"MinValue\": \"0\",\n",
    "                \"Name\": \"eta\",\n",
    "            },\n",
    "            {\n",
    "                \"MaxValue\": \"10\",\n",
    "                \"MinValue\": \"1\",\n",
    "                \"Name\": \"min_child_weight\",\n",
    "            },\n",
    "            {\n",
    "                \"MaxValue\": \"2\",\n",
    "                \"MinValue\": \"0\",\n",
    "                \"Name\": \"alpha\",\n",
    "            },\n",
    "        ],\n",
    "        \"IntegerParameterRanges\": [\n",
    "            {\n",
    "                \"MaxValue\": \"10\",\n",
    "                \"MinValue\": \"1\",\n",
    "                \"Name\": \"max_depth\",\n",
    "            }\n",
    "        ],\n",
    "    },\n",
    "    \"ResourceLimits\": {\"MaxNumberOfTrainingJobs\": 2, \"MaxParallelTrainingJobs\": 2},\n",
    "    \"Strategy\": \"Bayesian\",\n",
    "    \"HyperParameterTuningJobObjective\": {\"MetricName\": \"validation:auc\", \"Type\": \"Maximize\"},\n",
    "}"
   ],
   "outputs": [],
   "metadata": {
    "ExecuteTime": {
     "end_time": "2021-09-26T08:09:09.058048Z",
     "start_time": "2021-09-26T08:09:09.052200Z"
    }
   }
  },
  {
   "cell_type": "code",
   "execution_count": null,
   "source": [
    "from sagemaker.image_uris import retrieve\n",
    "# Use XGBoost algorithm for training\n",
    "training_image = retrieve(framework=\"xgboost\", region=region, version=\"latest\")\n",
    "\n",
    "s3_input_train = \"s3://{}/{}/train\".format(bucket, prefix)\n",
    "s3_input_validation = \"s3://{}/{}/validation/\".format(bucket, prefix)\n",
    "\n",
    "training_job_definition = {\n",
    "    \"AlgorithmSpecification\": {\"TrainingImage\": training_image, \"TrainingInputMode\": \"File\"},\n",
    "    \"InputDataConfig\": [\n",
    "        {\n",
    "            \"ChannelName\": \"train\",\n",
    "            \"CompressionType\": \"None\",\n",
    "            \"ContentType\": \"csv\",\n",
    "            \"DataSource\": {\n",
    "                \"S3DataSource\": {\n",
    "                    \"S3DataDistributionType\": \"FullyReplicated\",\n",
    "                    \"S3DataType\": \"S3Prefix\",\n",
    "                    \"S3Uri\": s3_input_train,\n",
    "                }\n",
    "            },\n",
    "        },\n",
    "        {\n",
    "            \"ChannelName\": \"validation\",\n",
    "            \"CompressionType\": \"None\",\n",
    "            \"ContentType\": \"csv\",\n",
    "            \"DataSource\": {\n",
    "                \"S3DataSource\": {\n",
    "                    \"S3DataDistributionType\": \"FullyReplicated\",\n",
    "                    \"S3DataType\": \"S3Prefix\",\n",
    "                    \"S3Uri\": s3_input_validation,\n",
    "                }\n",
    "            },\n",
    "        },\n",
    "    ],\n",
    "    \"OutputDataConfig\": {\"S3OutputPath\": \"s3://{}/{}/output\".format(bucket, prefix)},\n",
    "    \"ResourceConfig\": {\"InstanceCount\": 1, \"InstanceType\": \"ml.m5.xlarge\", \"VolumeSizeInGB\": 10},\n",
    "    \"RoleArn\": sagemaker_role,\n",
    "    \"StaticHyperParameters\": {\n",
    "        \"eval_metric\": \"auc\",\n",
    "        \"num_round\": \"1\",\n",
    "        \"objective\": \"binary:logistic\",\n",
    "        \"rate_drop\": \"0.3\",\n",
    "        \"tweedie_variance_power\": \"1.4\",\n",
    "    },\n",
    "    \"StoppingCondition\": {\"MaxRuntimeInSeconds\": 43200},\n",
    "}"
   ],
   "outputs": [],
   "metadata": {
    "ExecuteTime": {
     "end_time": "2021-09-26T08:09:09.104138Z",
     "start_time": "2021-09-26T08:09:09.061485Z"
    }
   }
  },
  {
   "cell_type": "markdown",
   "source": [
    "Now we can launch a hyperparameter tuning job by calling create_hyper_parameter_tuning_job API. After the hyperparameter tuning job is created, we can go to SageMaker console to track the progress of the hyperparameter tuning job until it is completed."
   ],
   "metadata": {}
  },
  {
   "cell_type": "markdown",
   "source": [
    "While Training you can take screenshots of the jobs you just launched on SageMaker-> Training -> \n",
    "Hyperparameter tuning jobs"
   ],
   "metadata": {
    "ExecuteTime": {
     "end_time": "2021-09-26T08:27:06.638818Z",
     "start_time": "2021-09-26T08:27:06.634274Z"
    }
   }
  },
  {
   "cell_type": "code",
   "execution_count": null,
   "source": [
    "#Launch Hyperparameter Tuning Job\n",
    "smclient.create_hyper_parameter_tuning_job(\n",
    "    HyperParameterTuningJobName=tuning_job_name,\n",
    "    HyperParameterTuningJobConfig=tuning_job_config,\n",
    "    TrainingJobDefinition=training_job_definition,\n",
    ")"
   ],
   "outputs": [],
   "metadata": {
    "ExecuteTime": {
     "end_time": "2021-09-26T08:09:15.166505Z",
     "start_time": "2021-09-26T08:09:09.109405Z"
    }
   }
  },
  {
   "cell_type": "markdown",
   "source": [
    "Plese follow the steps from the following link and take screenshots to demonstrate you successfully completed your lab. \n",
    "[How to monitor the progress of a job?](https://docs.aws.amazon.com/sagemaker/latest/dg/automatic-model-tuning-monitor.html)"
   ],
   "metadata": {
    "ExecuteTime": {
     "end_time": "2021-09-26T07:55:03.587565Z",
     "start_time": "2021-09-26T07:55:03.582863Z"
    }
   }
  },
  {
   "cell_type": "markdown",
   "source": [
    "You should also be able to check the output in s3://YOUR_BUCKET/sagemaker/STUDENTID-hpo-xgboost-dm/output."
   ],
   "metadata": {}
  },
  {
   "cell_type": "markdown",
   "source": [
    "# End of Lab\n",
    "\n",
    "\n",
    "1. In this lab we first used jupyter notebooks and pandas to explore a dataset.\n",
    "2. Then we have learnt how to use boto3 and sagemaker to create training and hyperparameter optimization jobs, two important steps in every machine learning project.\n",
    "3. After a job is learned SageMaker allows to deploy models in EC2 instances. However, this is out of the scope for this lab.\n",
    "\n",
    "NOTE: Don't forget to remove all resources you used such as the bucket and data generated in S3."
   ],
   "metadata": {}
  },
  {
   "cell_type": "code",
   "execution_count": null,
   "source": [],
   "outputs": [],
   "metadata": {}
  }
 ],
 "metadata": {
  "kernelspec": {
   "display_name": "PyCharm (ReadPssesion)",
   "language": "python",
   "name": "pycharm-8851adb6"
  },
  "language_info": {
   "codemirror_mode": {
    "name": "ipython",
    "version": 3
   },
   "file_extension": ".py",
   "mimetype": "text/x-python",
   "name": "python",
   "nbconvert_exporter": "python",
   "pygments_lexer": "ipython3",
   "version": "3.9.4"
  },
  "varInspector": {
   "cols": {
    "lenName": 16,
    "lenType": 16,
    "lenVar": 40
   },
   "kernels_config": {
    "python": {
     "delete_cmd_postfix": "",
     "delete_cmd_prefix": "del ",
     "library": "var_list.py",
     "varRefreshCmd": "print(var_dic_list())"
    },
    "r": {
     "delete_cmd_postfix": ") ",
     "delete_cmd_prefix": "rm(",
     "library": "var_list.r",
     "varRefreshCmd": "cat(var_dic_list()) "
    }
   },
   "types_to_exclude": [
    "module",
    "function",
    "builtin_function_or_method",
    "instance",
    "_Feature"
   ],
   "window_display": false
  }
 },
 "nbformat": 4,
 "nbformat_minor": 5
}
